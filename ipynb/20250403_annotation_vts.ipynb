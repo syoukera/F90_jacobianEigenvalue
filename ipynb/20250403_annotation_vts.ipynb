{
 "cells": [
  {
   "cell_type": "code",
   "execution_count": 18,
   "metadata": {},
   "outputs": [],
   "source": [
    "import vtk\n",
    "import numpy as np\n",
    "import cantera as ct\n",
    "from vtk.util.numpy_support import vtk_to_numpy, numpy_to_vtk"
   ]
  },
  {
   "cell_type": "markdown",
   "metadata": {},
   "source": [
    "# load Tamaoki mechanism\n",
    "for getting reaction equations and species names"
   ]
  },
  {
   "cell_type": "code",
   "execution_count": null,
   "metadata": {},
   "outputs": [],
   "source": [
    "#create gas from original mechanism file gri30.cti\n",
    "gas = ct.Solution('NH3_Tamaoki.yaml')\n",
    "#reorder the gas to match pyJac\n",
    "n2_ind = gas.species_index('N2')\n",
    "specs = gas.species()[:]\n",
    "gas = ct.Solution(thermo='IdealGas', kinetics='GasKinetics',\n",
    "        species=specs[:n2_ind] + specs[n2_ind + 1:] + [specs[n2_ind]],\n",
    "        reactions=gas.reactions())"
   ]
  },
  {
   "cell_type": "markdown",
   "metadata": {},
   "source": [
    "# Read VTS file"
   ]
  },
  {
   "cell_type": "code",
   "execution_count": 20,
   "metadata": {},
   "outputs": [],
   "source": [
    "path_read = \"../xy_plane/pv_xy_z00001_0000900100.vts\"\n",
    "path_write = path_read.split('.vts')[0]+'_annotation.vts'\n",
    "\n",
    "# VTSファイルを読み込む\n",
    "reader = vtk.vtkXMLStructuredGridReader()\n",
    "reader.SetFileName(path_read)  # 読み込むVTSファイルのパス\n",
    "reader.Update()\n",
    "structured_grid = reader.GetOutput()"
   ]
  },
  {
   "cell_type": "code",
   "execution_count": 21,
   "metadata": {},
   "outputs": [
    {
     "data": {
      "text/plain": [
       "['T',\n",
       " 'HE',\n",
       " 'N2',\n",
       " 'H2',\n",
       " 'O2',\n",
       " 'H',\n",
       " 'O',\n",
       " 'OH',\n",
       " 'HO2',\n",
       " 'H2O',\n",
       " 'H2O2',\n",
       " 'OH*',\n",
       " 'N',\n",
       " 'NH3',\n",
       " 'NH2',\n",
       " 'NH',\n",
       " 'NNH',\n",
       " 'NO',\n",
       " 'N2O',\n",
       " 'HNO',\n",
       " 'HON',\n",
       " 'H2NO',\n",
       " 'HNOH',\n",
       " 'NH2OH',\n",
       " 'NO2',\n",
       " 'HONO',\n",
       " 'HNO2',\n",
       " 'NO3',\n",
       " 'HONO2',\n",
       " 'N2H2',\n",
       " 'H2NN',\n",
       " 'N2H4',\n",
       " 'N2H3',\n",
       " 'AR']"
      ]
     },
     "execution_count": 21,
     "metadata": {},
     "output_type": "execute_result"
    }
   ],
   "source": [
    "list_labelEI = ['T']\n",
    "list_labelEI.extend(gas.species_names)\n",
    "list_labelEI"
   ]
  },
  {
   "cell_type": "code",
   "execution_count": 22,
   "metadata": {},
   "outputs": [
    {
     "name": "stdout",
     "output_type": "stream",
     "text": [
      "['H2' 'H2NO' 'H2O' 'H2O2' 'HE' 'HNO' 'HO2' 'HON' 'HONO' 'N2' 'N2H2' 'N2H3'\n",
      " 'N2H4' 'N2O' 'NH2' 'NH2OH' 'NH3' 'NO' 'NO2' 'O' 'O2' 'OH' 'T']\n",
      "['2 NH2 (+M) <=> N2H4 (+M)' '2 NH2 <=> H2 + H2NN' '2 NH2 <=> NH + NH3'\n",
      " 'H + H2O2 <=> H2O + OH' 'H + HNO <=> H2 + NO' 'H + NH2 <=> H2 + NH'\n",
      " 'H + NH3 <=> H2 + NH2' 'H + O2 <=> O + OH' 'H2 + HE <=> 2 H + HE'\n",
      " 'H2O2 (+M) <=> 2 OH (+M)' 'NH3 + M <=> H + NH2 + M' 'NNH <=> H + N2']\n"
     ]
    }
   ],
   "source": [
    "def add_annotation(orig_label=\"index_maxEI\", dest_label=\"Species_maxEI\", list_annotaions=gas.species_names):\n",
    "\n",
    "    # 既存のラベルデータ（argmax 結果）を取得\n",
    "    argmax_array = structured_grid.GetPointData().GetArray(orig_label)  # 適宜変更\n",
    "    if argmax_array is None:\n",
    "        raise ValueError(\"Field 'argmax_result' not found in VTS file!\")\n",
    "\n",
    "    # NumPy 配列に変換\n",
    "    argmax_np = vtk_to_numpy(argmax_array)\n",
    "\n",
    "    # Annotation（カテゴリ名）に変換\n",
    "    annotations = np.array([list_annotaions[int(val)-1] for val in argmax_np], dtype=object)\n",
    "    print(np.unique(annotations))\n",
    "\n",
    "    # VTK の文字列配列を作成\n",
    "    vtk_annotations = vtk.vtkStringArray()\n",
    "    vtk_annotations.SetName(dest_label)\n",
    "\n",
    "    for label in annotations:\n",
    "        vtk_annotations.InsertNextValue(label)\n",
    "\n",
    "    # 既存の Structured Grid に Annotation を追加\n",
    "    structured_grid.GetPointData().AddArray(vtk_annotations)\n",
    "\n",
    "add_annotation(orig_label=\"index_maxEI\", dest_label=\"Species_maxEI\", list_annotaions=list_labelEI)\n",
    "add_annotation(orig_label=\"index_maxPI\", dest_label=\"Reactions_maxPI\", list_annotaions=gas.reaction_equations())"
   ]
  },
  {
   "cell_type": "code",
   "execution_count": 23,
   "metadata": {},
   "outputs": [
    {
     "name": "stdout",
     "output_type": "stream",
     "text": [
      "Updated VTS file saved: ../xy_plane/pv_xy_z00001_0000900100_annotation.vts\n"
     ]
    }
   ],
   "source": [
    "# VTSファイルとして保存\n",
    "writer = vtk.vtkXMLStructuredGridWriter()\n",
    "writer.SetFileName(path_write)  # 出力ファイル名\n",
    "writer.SetInputData(structured_grid)\n",
    "writer.Write()\n",
    "\n",
    "print(\"Updated VTS file saved: \" + path_write)"
   ]
  },
  {
   "cell_type": "code",
   "execution_count": null,
   "metadata": {},
   "outputs": [],
   "source": []
  },
  {
   "cell_type": "code",
   "execution_count": null,
   "metadata": {},
   "outputs": [],
   "source": []
  }
 ],
 "metadata": {
  "kernelspec": {
   "display_name": "vtk",
   "language": "python",
   "name": "python3"
  },
  "language_info": {
   "codemirror_mode": {
    "name": "ipython",
    "version": 3
   },
   "file_extension": ".py",
   "mimetype": "text/x-python",
   "name": "python",
   "nbconvert_exporter": "python",
   "pygments_lexer": "ipython3",
   "version": "3.13.2"
  }
 },
 "nbformat": 4,
 "nbformat_minor": 2
}
