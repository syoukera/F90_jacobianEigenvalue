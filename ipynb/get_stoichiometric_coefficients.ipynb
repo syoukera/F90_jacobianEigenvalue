{
 "cells": [
  {
   "cell_type": "markdown",
   "metadata": {},
   "source": [
    "# get_stoichiometric_coefficients.ipynb\n",
    "\n",
    "参与指数(Participation Index: PI)を取得するための前処理として，`src/c/spec_rates.c`のテキストを解析して，量論係数(stoich_coeffs_cema)，逆反応のインデックス(list_i_rev_rates)，圧力依存性のインデックス(list_k_pres_mod)を取得する．"
   ]
  },
  {
   "cell_type": "code",
   "execution_count": 1,
   "metadata": {},
   "outputs": [],
   "source": [
    "import os\n",
    "import numpy as np"
   ]
  },
  {
   "cell_type": "markdown",
   "metadata": {},
   "source": [
    "## Get numbers of species/reactions from mechanism.h"
   ]
  },
  {
   "cell_type": "code",
   "execution_count": 2,
   "metadata": {},
   "outputs": [
    {
     "name": "stdout",
     "output_type": "stream",
     "text": [
      "True\n"
     ]
    }
   ],
   "source": [
    "path_h = '../src/c/mechanism.h'\n",
    "print(os.path.exists(path_h))"
   ]
  },
  {
   "cell_type": "code",
   "execution_count": 3,
   "metadata": {},
   "outputs": [
    {
     "name": "stdout",
     "output_type": "stream",
     "text": [
      "n_species: 26\n",
      "n_reactinos: 171\n"
     ]
    }
   ],
   "source": [
    "with open(path_h, 'r', encoding='utf-8') as file:\n",
    "    for line in file:\n",
    "        if line.startswith('#define NSP'):\n",
    "            n_species = int(line.split()[-1])\n",
    "        \n",
    "        if line.startswith('#define FWD_RATES'):\n",
    "            n_reactions = int(line.split()[-1])\n",
    "\n",
    "print('n_species:', n_species)\n",
    "print('n_reactinos:', n_reactions)"
   ]
  },
  {
   "cell_type": "markdown",
   "metadata": {},
   "source": [
    "## Get indices from spec_rates.c"
   ]
  },
  {
   "cell_type": "code",
   "execution_count": 4,
   "metadata": {},
   "outputs": [
    {
     "name": "stdout",
     "output_type": "stream",
     "text": [
      "True\n"
     ]
    }
   ],
   "source": [
    "path_c = '../src/c/spec_rates.c'\n",
    "print(os.path.exists(path_c))"
   ]
  },
  {
   "cell_type": "code",
   "execution_count": 5,
   "metadata": {},
   "outputs": [],
   "source": [
    "stoich_coeffs_cema = np.zeros(shape=(n_species, n_reactions), dtype=np.int32)\n",
    "list_k_pres_mod = np.zeros(shape=n_reactions, dtype=np.int32)\n",
    "list_i_rev_rates = np.zeros(shape=n_reactions, dtype=np.int32)\n",
    "\n",
    "with open(path_c, 'r', encoding='utf-8') as file:\n",
    "        lines = file.readlines()\n",
    "\n",
    "for line in lines:\n",
    "\n",
    "      # pick reaction number\n",
    "      if '//rxn' in line:\n",
    "            i_reaction = int(line.split(' ')[-1])\n",
    "            # print('reaction ', i_reaction)\n",
    "\n",
    "      # pick species number\n",
    "      if '//sp' in line:\n",
    "            j_species = int(line.split(' ')[-1]) -1\n",
    "            # print('species ', j_species)\n",
    "\n",
    "      # pick coefficient\n",
    "      coeff = 1.0\n",
    "      \n",
    "      if 'sp_rates' in line and '=' in line:\n",
    "\n",
    "            if 'sp_rates[0]' in line:\n",
    "                  continue\n",
    "    \n",
    "            sign_equals = line.split('=')[0][-1:]\n",
    "            sign_bracket = line.split('(')[0][-1:]\n",
    "\n",
    "            if sign_equals == '-':\n",
    "                  coeff *= - 1.0\n",
    "                  \n",
    "            if sign_bracket == '-':\n",
    "                  coeff *= - 1.0\n",
    "\n",
    "            if '*' in line.split('=')[1].split('fwd_rates')[0]:\n",
    "                  # print(float(line.split('=')[1].split('fwd_rates')[0].split('*')[0]))\n",
    "                  coeff *= float(line.split('=')[1].split('fwd_rates')[0].split('*')[0])\n",
    "\n",
    "            # print(coeff, line)\n",
    "            stoich_coeffs_cema[j_species, i_reaction] = coeff\n",
    "\n",
    "            if 'rev_rates' in line:\n",
    "                  i_rev_rates = int(line.split('rev_rates[')[1].split(']')[0])\n",
    "                  # print(i_rev_rates, line)\n",
    "                  list_i_rev_rates[i_reaction] = i_rev_rates\n",
    "            else:\n",
    "                  list_i_rev_rates[i_reaction] = -1\n",
    "                  \n",
    "            \n",
    "      \n",
    "            if 'pres_mod' in line:\n",
    "                  k_pres_mod = int(line.split('* pres_mod')[-1].split('[')[1].split(']')[0])\n",
    "                  # print(k_pres_mod, i_reaction, line)\n",
    "                  list_k_pres_mod[i_reaction] = k_pres_mod\n",
    "            else:\n",
    "                  list_k_pres_mod[i_reaction] = -1\n"
   ]
  },
  {
   "cell_type": "markdown",
   "metadata": {},
   "source": [
    "## Check indices"
   ]
  },
  {
   "cell_type": "code",
   "execution_count": 6,
   "metadata": {},
   "outputs": [
    {
     "data": {
      "text/plain": [
       "array([ 0,  0,  0, -1,  0,  0,  0,  0, -1,  0,  0,  0,  0,  1,  0,  0,  0,\n",
       "        0,  0,  0,  0,  0,  0,  0,  0,  0], dtype=int32)"
      ]
     },
     "execution_count": 6,
     "metadata": {},
     "output_type": "execute_result"
    }
   ],
   "source": [
    "stoich_coeffs_cema[:, -1]"
   ]
  },
  {
   "cell_type": "code",
   "execution_count": 7,
   "metadata": {},
   "outputs": [
    {
     "data": {
      "text/plain": [
       "array([  0,   1,   2,   3,   4,   5,   6,   7,   8,   9,  10,  11,  12,\n",
       "        13,  14,  15,  16,  17,  18,  19,  20,  21,  22,  23,  24,  25,\n",
       "        26,  27,  28,  29,  30,  31,  32,  33,  34,  35,  36,  37,  38,\n",
       "        39,  40,  41,  42,  43,  44,  45,  46,  47,  48,  49,  50,  51,\n",
       "        52,  53,  54,  55,  56,  57,  58,  59,  60,  61,  62,  63,  64,\n",
       "        65,  66,  67,  68,  69,  70,  71,  72,  73,  74,  75,  76,  77,\n",
       "        78,  79,  80,  81,  82,  83,  84,  85,  86,  87,  88,  89,  90,\n",
       "        91,  92,  93,  94,  95,  96,  97,  98,  99, 100, 101, 102, 103,\n",
       "       104, 105, 106, 107, 108, 109, 110, 111, 112, 113, 114, 115, 116,\n",
       "       117, 118, 119, 120, 121, 122, 123, 124, 125, 126, 127, 128, 129,\n",
       "       130, 131, 132, 133, 134, 135, 136, 137, 138, 139,  -1, 140, 141,\n",
       "       142, 143, 144, 145, 146, 147, 148, 149, 150, 151, 152, 153, 154,\n",
       "       155, 156, 157, 158, 159, 160, 161, 162,  -1,  -1, 163, 164, 165,\n",
       "       166, 167], dtype=int32)"
      ]
     },
     "execution_count": 7,
     "metadata": {},
     "output_type": "execute_result"
    }
   ],
   "source": [
    "list_i_rev_rates"
   ]
  },
  {
   "cell_type": "code",
   "execution_count": 8,
   "metadata": {},
   "outputs": [
    {
     "data": {
      "text/plain": [
       "array([-1, -1, -1, -1, -1, -1,  0,  1,  2,  3, -1,  4, -1, -1, -1, -1, -1,\n",
       "       -1, -1, -1, -1, -1, -1, -1,  5, -1, -1, -1, -1, -1,  6, -1, -1, -1,\n",
       "       -1, -1, -1, -1, -1, -1, -1, -1, -1, -1, -1, -1, -1, -1, -1, -1, -1,\n",
       "       -1, -1, -1, -1,  7, -1, -1, -1, -1, -1, -1, -1, -1, -1, -1, -1, -1,\n",
       "       -1, -1, -1, -1, -1, -1, -1, -1, -1, -1, -1, -1, -1, -1,  8,  9, -1,\n",
       "       -1, -1, -1, -1, -1, -1, -1, -1, 10, -1, -1, -1, -1, -1, -1, -1, 11,\n",
       "       12, -1, -1, -1, -1, -1, 13, -1, -1, 14, -1, -1, -1, -1, -1, -1, 15,\n",
       "       -1, -1, -1, -1, -1, -1, -1, -1, -1, -1, -1, -1, 16, -1, -1, -1, -1,\n",
       "       -1, -1, -1, -1, -1, -1, -1, -1, -1, -1, -1, -1, -1, -1, -1, -1, -1,\n",
       "       -1, -1, -1, -1, -1, -1, -1, -1, -1, -1, -1, -1, -1, -1, -1, -1, 17,\n",
       "       18], dtype=int32)"
      ]
     },
     "execution_count": 8,
     "metadata": {},
     "output_type": "execute_result"
    }
   ],
   "source": [
    "list_k_pres_mod"
   ]
  },
  {
   "cell_type": "markdown",
   "metadata": {},
   "source": [
    "## Export indices"
   ]
  },
  {
   "cell_type": "code",
   "execution_count": 9,
   "metadata": {},
   "outputs": [],
   "source": [
    "stoich_coeffs_cema.reshape([n_species*n_reactions],order='F').tofile(\"stoich_coeffs.bin\")\n",
    "list_i_rev_rates.tofile(\"list_i_rev_rates.bin\")\n",
    "list_k_pres_mod.tofile(\"list_k_pres_mod.bin\")"
   ]
  }
 ],
 "metadata": {
  "kernelspec": {
   "display_name": "cantera",
   "language": "python",
   "name": "python3"
  },
  "language_info": {
   "codemirror_mode": {
    "name": "ipython",
    "version": 3
   },
   "file_extension": ".py",
   "mimetype": "text/x-python",
   "name": "python",
   "nbconvert_exporter": "python",
   "pygments_lexer": "ipython3",
   "version": "3.11.11"
  }
 },
 "nbformat": 4,
 "nbformat_minor": 2
}
