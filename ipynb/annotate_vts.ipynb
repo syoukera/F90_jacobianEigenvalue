{
 "cells": [
  {
   "cell_type": "markdown",
   "metadata": {},
   "source": [
    "# annotate_vts.ipynb\n",
    "Fortranで作成されたvtsファイルの，EIとPIのラベルを付与するためのPythonスクリプト．メカニズムファイルをCanteraで読み込んで，化学種名と藩王名を取得している．"
   ]
  },
  {
   "cell_type": "code",
   "execution_count": null,
   "metadata": {},
   "outputs": [],
   "source": [
    "import vtk\n",
    "import numpy as np\n",
    "import cantera as ct\n",
    "from vtk.util.numpy_support import vtk_to_numpy, numpy_to_vtk"
   ]
  },
  {
   "cell_type": "markdown",
   "metadata": {},
   "source": [
    "## load Tamaoki mechanism\n",
    "for getting reaction equations and species names"
   ]
  },
  {
   "cell_type": "code",
   "execution_count": null,
   "metadata": {},
   "outputs": [],
   "source": [
    "#create gas from original mechanism file gri30.cti\n",
    "gas = ct.Solution('NH3_Tamaoki.yaml')\n",
    "#reorder the gas to match pyJac\n",
    "n2_ind = gas.species_index('N2')\n",
    "specs = gas.species()[:]\n",
    "gas = ct.Solution(thermo='IdealGas', kinetics='GasKinetics',\n",
    "        species=specs[:n2_ind] + specs[n2_ind + 1:] + [specs[n2_ind]],\n",
    "        reactions=gas.reactions())"
   ]
  },
  {
   "cell_type": "markdown",
   "metadata": {},
   "source": [
    "## Read VTS file"
   ]
  },
  {
   "cell_type": "code",
   "execution_count": null,
   "metadata": {},
   "outputs": [],
   "source": [
    "path_read = \"../xy_plane/pv_xy_z00001_0000900100.vts\"\n",
    "path_write = path_read.split('.vts')[0]+'_annotation.vts'\n",
    "\n",
    "# VTSファイルを読み込む\n",
    "reader = vtk.vtkXMLStructuredGridReader()\n",
    "reader.SetFileName(path_read)  # 読み込むVTSファイルのパス\n",
    "reader.Update()\n",
    "structured_grid = reader.GetOutput()"
   ]
  },
  {
   "cell_type": "code",
   "execution_count": null,
   "metadata": {},
   "outputs": [
    {
     "data": {
      "text/plain": [
       "['T',\n",
       " 'HE',\n",
       " 'AR',\n",
       " 'H2',\n",
       " 'O2',\n",
       " 'H',\n",
       " 'O',\n",
       " 'OH',\n",
       " 'HO2',\n",
       " 'H2O',\n",
       " 'H2O2',\n",
       " 'OH*',\n",
       " 'N',\n",
       " 'NH3',\n",
       " 'NH2',\n",
       " 'NH',\n",
       " 'NNH',\n",
       " 'NO',\n",
       " 'N2O',\n",
       " 'HNO',\n",
       " 'HON',\n",
       " 'H2NO',\n",
       " 'HNOH',\n",
       " 'NH2OH',\n",
       " 'NO2',\n",
       " 'HONO',\n",
       " 'HNO2',\n",
       " 'NO3',\n",
       " 'HONO2',\n",
       " 'N2H2',\n",
       " 'H2NN',\n",
       " 'N2H4',\n",
       " 'N2H3',\n",
       " 'N2']"
      ]
     },
     "execution_count": 28,
     "metadata": {},
     "output_type": "execute_result"
    }
   ],
   "source": [
    "list_labelEI = ['T']\n",
    "list_labelEI.extend(gas.species_names)\n",
    "list_labelEI"
   ]
  },
  {
   "cell_type": "code",
   "execution_count": null,
   "metadata": {},
   "outputs": [
    {
     "name": "stdout",
     "output_type": "stream",
     "text": [
      "['H2' 'H2NO' 'H2O' 'H2O2' 'HE' 'HNO' 'HNO2' 'HNOH' 'HO2' 'HON' 'HONO'\n",
      " 'N2H2' 'N2H3' 'N2H4' 'N2O' 'NH2' 'NH2OH' 'NH3' 'NO' 'NO2' 'O' 'O2' 'OH'\n",
      " 'T']\n",
      "['2 NH2 <=> NH + NH3' '2 OH <=> H2O + O' 'H + N2O <=> N2 + OH'\n",
      " 'H + NH3 <=> H2 + NH2' 'H + NO2 <=> NO + OH' 'H + O2 (+M) <=> HO2 (+M)'\n",
      " 'H + O2 <=> O + OH' 'H2 + OH <=> H + H2O' 'H2NN + O2 <=> NH2 + NO2'\n",
      " 'HNO + O2 <=> HO2 + NO' 'HNO + OH <=> H2O + NO' 'HO2 + NH2 <=> H2O + HNO'\n",
      " 'HO2 + NH2 <=> NH3 + O2' 'HO2 + NH3 <=> H2O2 + NH2'\n",
      " 'HO2 + OH <=> H2O + O2' 'N2H3 + NH2 <=> H2NN + NH3'\n",
      " 'N2O (+M) <=> N2 + O (+M)' 'N2O + O <=> N2 + O2' 'NH + NO <=> H + N2O'\n",
      " 'NH2 + NO <=> H2O + N2' 'NH2 + NO2 <=> H2O + N2O'\n",
      " 'NH3 + M <=> H + NH2 + M' 'NH3 + O <=> NH2 + OH' 'NH3 + OH <=> H2O + NH2'\n",
      " 'NO + O (+M) <=> NO2 (+M)']\n"
     ]
    }
   ],
   "source": [
    "def add_annotation(orig_label=\"index_maxEI\", dest_label=\"Species_maxEI\", list_annotaions=gas.species_names):\n",
    "\n",
    "    # 既存のラベルデータ（argmax 結果）を取得\n",
    "    argmax_array = structured_grid.GetPointData().GetArray(orig_label)  # 適宜変更\n",
    "    if argmax_array is None:\n",
    "        raise ValueError(\"Field 'argmax_result' not found in VTS file!\")\n",
    "\n",
    "    # NumPy 配列に変換\n",
    "    argmax_np = vtk_to_numpy(argmax_array)\n",
    "\n",
    "    # Annotation（カテゴリ名）に変換\n",
    "    annotations = np.array([list_annotaions[int(val)-1] for val in argmax_np], dtype=object)\n",
    "    print(np.unique(annotations))\n",
    "\n",
    "    # VTK の文字列配列を作成\n",
    "    vtk_annotations = vtk.vtkStringArray()\n",
    "    vtk_annotations.SetName(dest_label)\n",
    "\n",
    "    for label in annotations:\n",
    "        vtk_annotations.InsertNextValue(label)\n",
    "\n",
    "    # 既存の Structured Grid に Annotation を追加\n",
    "    structured_grid.GetPointData().AddArray(vtk_annotations)\n",
    "\n",
    "add_annotation(orig_label=\"index_maxEI\", dest_label=\"Species_maxEI\", list_annotaions=list_labelEI)\n",
    "add_annotation(orig_label=\"index_maxPI\", dest_label=\"Reactions_maxPI\", list_annotaions=gas.reaction_equations())"
   ]
  },
  {
   "cell_type": "markdown",
   "metadata": {},
   "source": [
    "## Export VTS file"
   ]
  },
  {
   "cell_type": "code",
   "execution_count": null,
   "metadata": {},
   "outputs": [
    {
     "name": "stdout",
     "output_type": "stream",
     "text": [
      "Updated VTS file saved: ../xy_plane/pv_xy_z00001_0000900100_annotation.vts\n"
     ]
    }
   ],
   "source": [
    "# VTSファイルとして保存\n",
    "writer = vtk.vtkXMLStructuredGridWriter()\n",
    "writer.SetFileName(path_write)  # 出力ファイル名\n",
    "writer.SetInputData(structured_grid)\n",
    "writer.Write()\n",
    "\n",
    "print(\"Updated VTS file saved: \" + path_write)"
   ]
  }
 ],
 "metadata": {
  "kernelspec": {
   "display_name": "vtk",
   "language": "python",
   "name": "python3"
  },
  "language_info": {
   "codemirror_mode": {
    "name": "ipython",
    "version": 3
   },
   "file_extension": ".py",
   "mimetype": "text/x-python",
   "name": "python",
   "nbconvert_exporter": "python",
   "pygments_lexer": "ipython3",
   "version": "3.13.2"
  }
 },
 "nbformat": 4,
 "nbformat_minor": 2
}
